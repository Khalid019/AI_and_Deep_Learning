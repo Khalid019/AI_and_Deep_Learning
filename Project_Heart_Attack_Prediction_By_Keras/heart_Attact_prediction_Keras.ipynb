{
 "cells": [
  {
   "cell_type": "markdown",
   "metadata": {},
   "source": [
    "### Import libraries"
   ]
  },
  {
   "cell_type": "code",
   "execution_count": 10,
   "metadata": {},
   "outputs": [],
   "source": [
    "# import libraries\n",
    "from numpy import loadtxt\n",
    "from keras.models import Sequential\n",
    "from keras.layers import Dense\n",
    "from keras import backend as K\n",
    "import tensorflow as tf\n",
    "\n",
    "# import dataframe\n",
    "import pandas as pd\n",
    "import numpy as np\n"
   ]
  },
  {
   "cell_type": "markdown",
   "metadata": {},
   "source": [
    "### Load Dataset"
   ]
  },
  {
   "cell_type": "code",
   "execution_count": 11,
   "metadata": {},
   "outputs": [],
   "source": [
    "# load the dataset\n",
    "dataset = pd.read_csv('./Data/heart.csv' )"
   ]
  },
  {
   "cell_type": "markdown",
   "metadata": {},
   "source": [
    "### For each Attribute:(all numwric-valued)\n",
    "#### 1. age\n",
    "#### 2. sex (either male or female)\n",
    "#### 3. cp value\n",
    "#### 4. trestbps value\n",
    "#### 5. Cholestral level\n",
    "#### 6. fbs value\n",
    "#### 7. restecg value\n",
    "#### 8. thalach\n",
    "#### 9. exang\n",
    "#### 10. oldpeak\n",
    "#### 11. slope\n",
    "#### 12. ca\n",
    "#### 13. thal\n",
    "#### 14.target"
   ]
  },
  {
   "cell_type": "code",
   "execution_count": 15,
   "metadata": {},
   "outputs": [
    {
     "data": {
      "text/html": [
       "<div>\n",
       "<style scoped>\n",
       "    .dataframe tbody tr th:only-of-type {\n",
       "        vertical-align: middle;\n",
       "    }\n",
       "\n",
       "    .dataframe tbody tr th {\n",
       "        vertical-align: top;\n",
       "    }\n",
       "\n",
       "    .dataframe thead th {\n",
       "        text-align: right;\n",
       "    }\n",
       "</style>\n",
       "<table border=\"1\" class=\"dataframe\">\n",
       "  <thead>\n",
       "    <tr style=\"text-align: right;\">\n",
       "      <th></th>\n",
       "      <th>age</th>\n",
       "      <th>sex</th>\n",
       "      <th>cp</th>\n",
       "      <th>trestbps</th>\n",
       "      <th>chol</th>\n",
       "      <th>fbs</th>\n",
       "      <th>restecg</th>\n",
       "      <th>thalach</th>\n",
       "      <th>exang</th>\n",
       "      <th>oldpeak</th>\n",
       "      <th>slope</th>\n",
       "      <th>ca</th>\n",
       "      <th>thal</th>\n",
       "      <th>target</th>\n",
       "    </tr>\n",
       "  </thead>\n",
       "  <tbody>\n",
       "    <tr>\n",
       "      <th>0</th>\n",
       "      <td>52</td>\n",
       "      <td>1</td>\n",
       "      <td>0</td>\n",
       "      <td>125</td>\n",
       "      <td>212</td>\n",
       "      <td>0</td>\n",
       "      <td>1</td>\n",
       "      <td>168</td>\n",
       "      <td>0</td>\n",
       "      <td>1.0</td>\n",
       "      <td>2</td>\n",
       "      <td>2</td>\n",
       "      <td>3</td>\n",
       "      <td>0</td>\n",
       "    </tr>\n",
       "    <tr>\n",
       "      <th>1</th>\n",
       "      <td>53</td>\n",
       "      <td>1</td>\n",
       "      <td>0</td>\n",
       "      <td>140</td>\n",
       "      <td>203</td>\n",
       "      <td>1</td>\n",
       "      <td>0</td>\n",
       "      <td>155</td>\n",
       "      <td>1</td>\n",
       "      <td>3.1</td>\n",
       "      <td>0</td>\n",
       "      <td>0</td>\n",
       "      <td>3</td>\n",
       "      <td>0</td>\n",
       "    </tr>\n",
       "    <tr>\n",
       "      <th>2</th>\n",
       "      <td>70</td>\n",
       "      <td>1</td>\n",
       "      <td>0</td>\n",
       "      <td>145</td>\n",
       "      <td>174</td>\n",
       "      <td>0</td>\n",
       "      <td>1</td>\n",
       "      <td>125</td>\n",
       "      <td>1</td>\n",
       "      <td>2.6</td>\n",
       "      <td>0</td>\n",
       "      <td>0</td>\n",
       "      <td>3</td>\n",
       "      <td>0</td>\n",
       "    </tr>\n",
       "    <tr>\n",
       "      <th>3</th>\n",
       "      <td>61</td>\n",
       "      <td>1</td>\n",
       "      <td>0</td>\n",
       "      <td>148</td>\n",
       "      <td>203</td>\n",
       "      <td>0</td>\n",
       "      <td>1</td>\n",
       "      <td>161</td>\n",
       "      <td>0</td>\n",
       "      <td>0.0</td>\n",
       "      <td>2</td>\n",
       "      <td>1</td>\n",
       "      <td>3</td>\n",
       "      <td>0</td>\n",
       "    </tr>\n",
       "    <tr>\n",
       "      <th>4</th>\n",
       "      <td>62</td>\n",
       "      <td>0</td>\n",
       "      <td>0</td>\n",
       "      <td>138</td>\n",
       "      <td>294</td>\n",
       "      <td>1</td>\n",
       "      <td>1</td>\n",
       "      <td>106</td>\n",
       "      <td>0</td>\n",
       "      <td>1.9</td>\n",
       "      <td>1</td>\n",
       "      <td>3</td>\n",
       "      <td>2</td>\n",
       "      <td>0</td>\n",
       "    </tr>\n",
       "  </tbody>\n",
       "</table>\n",
       "</div>"
      ],
      "text/plain": [
       "   age  sex  cp  trestbps  chol  fbs  restecg  thalach  exang  oldpeak  slope  \\\n",
       "0   52    1   0       125   212    0        1      168      0      1.0      2   \n",
       "1   53    1   0       140   203    1        0      155      1      3.1      0   \n",
       "2   70    1   0       145   174    0        1      125      1      2.6      0   \n",
       "3   61    1   0       148   203    0        1      161      0      0.0      2   \n",
       "4   62    0   0       138   294    1        1      106      0      1.9      1   \n",
       "\n",
       "   ca  thal  target  \n",
       "0   2     3       0  \n",
       "1   0     3       0  \n",
       "2   0     3       0  \n",
       "3   1     3       0  \n",
       "4   3     2       0  "
      ]
     },
     "execution_count": 15,
     "metadata": {},
     "output_type": "execute_result"
    }
   ],
   "source": [
    "# First five Dataset:\n",
    "dataset.head(5)"
   ]
  },
  {
   "cell_type": "code",
   "execution_count": 16,
   "metadata": {},
   "outputs": [
    {
     "data": {
      "text/html": [
       "<div>\n",
       "<style scoped>\n",
       "    .dataframe tbody tr th:only-of-type {\n",
       "        vertical-align: middle;\n",
       "    }\n",
       "\n",
       "    .dataframe tbody tr th {\n",
       "        vertical-align: top;\n",
       "    }\n",
       "\n",
       "    .dataframe thead th {\n",
       "        text-align: right;\n",
       "    }\n",
       "</style>\n",
       "<table border=\"1\" class=\"dataframe\">\n",
       "  <thead>\n",
       "    <tr style=\"text-align: right;\">\n",
       "      <th></th>\n",
       "      <th>age</th>\n",
       "      <th>sex</th>\n",
       "      <th>cp</th>\n",
       "      <th>trestbps</th>\n",
       "      <th>chol</th>\n",
       "      <th>fbs</th>\n",
       "      <th>restecg</th>\n",
       "      <th>thalach</th>\n",
       "      <th>exang</th>\n",
       "      <th>oldpeak</th>\n",
       "      <th>slope</th>\n",
       "      <th>ca</th>\n",
       "      <th>thal</th>\n",
       "      <th>target</th>\n",
       "    </tr>\n",
       "  </thead>\n",
       "  <tbody>\n",
       "    <tr>\n",
       "      <th>1020</th>\n",
       "      <td>59</td>\n",
       "      <td>1</td>\n",
       "      <td>1</td>\n",
       "      <td>140</td>\n",
       "      <td>221</td>\n",
       "      <td>0</td>\n",
       "      <td>1</td>\n",
       "      <td>164</td>\n",
       "      <td>1</td>\n",
       "      <td>0.0</td>\n",
       "      <td>2</td>\n",
       "      <td>0</td>\n",
       "      <td>2</td>\n",
       "      <td>1</td>\n",
       "    </tr>\n",
       "    <tr>\n",
       "      <th>1021</th>\n",
       "      <td>60</td>\n",
       "      <td>1</td>\n",
       "      <td>0</td>\n",
       "      <td>125</td>\n",
       "      <td>258</td>\n",
       "      <td>0</td>\n",
       "      <td>0</td>\n",
       "      <td>141</td>\n",
       "      <td>1</td>\n",
       "      <td>2.8</td>\n",
       "      <td>1</td>\n",
       "      <td>1</td>\n",
       "      <td>3</td>\n",
       "      <td>0</td>\n",
       "    </tr>\n",
       "    <tr>\n",
       "      <th>1022</th>\n",
       "      <td>47</td>\n",
       "      <td>1</td>\n",
       "      <td>0</td>\n",
       "      <td>110</td>\n",
       "      <td>275</td>\n",
       "      <td>0</td>\n",
       "      <td>0</td>\n",
       "      <td>118</td>\n",
       "      <td>1</td>\n",
       "      <td>1.0</td>\n",
       "      <td>1</td>\n",
       "      <td>1</td>\n",
       "      <td>2</td>\n",
       "      <td>0</td>\n",
       "    </tr>\n",
       "    <tr>\n",
       "      <th>1023</th>\n",
       "      <td>50</td>\n",
       "      <td>0</td>\n",
       "      <td>0</td>\n",
       "      <td>110</td>\n",
       "      <td>254</td>\n",
       "      <td>0</td>\n",
       "      <td>0</td>\n",
       "      <td>159</td>\n",
       "      <td>0</td>\n",
       "      <td>0.0</td>\n",
       "      <td>2</td>\n",
       "      <td>0</td>\n",
       "      <td>2</td>\n",
       "      <td>1</td>\n",
       "    </tr>\n",
       "    <tr>\n",
       "      <th>1024</th>\n",
       "      <td>54</td>\n",
       "      <td>1</td>\n",
       "      <td>0</td>\n",
       "      <td>120</td>\n",
       "      <td>188</td>\n",
       "      <td>0</td>\n",
       "      <td>1</td>\n",
       "      <td>113</td>\n",
       "      <td>0</td>\n",
       "      <td>1.4</td>\n",
       "      <td>1</td>\n",
       "      <td>1</td>\n",
       "      <td>3</td>\n",
       "      <td>0</td>\n",
       "    </tr>\n",
       "  </tbody>\n",
       "</table>\n",
       "</div>"
      ],
      "text/plain": [
       "      age  sex  cp  trestbps  chol  fbs  restecg  thalach  exang  oldpeak  \\\n",
       "1020   59    1   1       140   221    0        1      164      1      0.0   \n",
       "1021   60    1   0       125   258    0        0      141      1      2.8   \n",
       "1022   47    1   0       110   275    0        0      118      1      1.0   \n",
       "1023   50    0   0       110   254    0        0      159      0      0.0   \n",
       "1024   54    1   0       120   188    0        1      113      0      1.4   \n",
       "\n",
       "      slope  ca  thal  target  \n",
       "1020      2   0     2       1  \n",
       "1021      1   1     3       0  \n",
       "1022      1   1     2       0  \n",
       "1023      2   0     2       1  \n",
       "1024      1   1     3       0  "
      ]
     },
     "execution_count": 16,
     "metadata": {},
     "output_type": "execute_result"
    }
   ],
   "source": [
    "# Last five Dataset\n",
    "dataset.tail(5)"
   ]
  },
  {
   "cell_type": "code",
   "execution_count": 17,
   "metadata": {},
   "outputs": [
    {
     "data": {
      "text/plain": [
       "14"
      ]
     },
     "execution_count": 17,
     "metadata": {},
     "output_type": "execute_result"
    }
   ],
   "source": [
    "# Check number of columns\n",
    "len(dataset.columns)"
   ]
  },
  {
   "cell_type": "code",
   "execution_count": 18,
   "metadata": {},
   "outputs": [
    {
     "data": {
      "text/plain": [
       "Index(['age', 'sex', 'cp', 'trestbps', 'chol', 'fbs', 'restecg', 'thalach',\n",
       "       'exang', 'oldpeak', 'slope', 'ca', 'thal', 'target'],\n",
       "      dtype='object')"
      ]
     },
     "execution_count": 18,
     "metadata": {},
     "output_type": "execute_result"
    }
   ],
   "source": [
    "# Check columns name.\n",
    "dataset.columns"
   ]
  },
  {
   "cell_type": "code",
   "execution_count": 19,
   "metadata": {},
   "outputs": [
    {
     "data": {
      "text/plain": [
       "pandas.core.frame.DataFrame"
      ]
     },
     "execution_count": 19,
     "metadata": {},
     "output_type": "execute_result"
    }
   ],
   "source": [
    "# Type of the Dataset\n",
    "type(dataset)"
   ]
  },
  {
   "cell_type": "code",
   "execution_count": 20,
   "metadata": {},
   "outputs": [
    {
     "data": {
      "text/plain": [
       "age           int64\n",
       "sex           int64\n",
       "cp            int64\n",
       "trestbps      int64\n",
       "chol          int64\n",
       "fbs           int64\n",
       "restecg       int64\n",
       "thalach       int64\n",
       "exang         int64\n",
       "oldpeak     float64\n",
       "slope         int64\n",
       "ca            int64\n",
       "thal          int64\n",
       "target        int64\n",
       "dtype: object"
      ]
     },
     "execution_count": 20,
     "metadata": {},
     "output_type": "execute_result"
    }
   ],
   "source": [
    "# Data tyoes of the Dataset \n",
    "dataset.dtypes"
   ]
  },
  {
   "cell_type": "code",
   "execution_count": 21,
   "metadata": {},
   "outputs": [
    {
     "name": "stdout",
     "output_type": "stream",
     "text": [
      "<class 'pandas.core.frame.DataFrame'>\n",
      "RangeIndex: 1025 entries, 0 to 1024\n",
      "Data columns (total 14 columns):\n",
      "age         1025 non-null int64\n",
      "sex         1025 non-null int64\n",
      "cp          1025 non-null int64\n",
      "trestbps    1025 non-null int64\n",
      "chol        1025 non-null int64\n",
      "fbs         1025 non-null int64\n",
      "restecg     1025 non-null int64\n",
      "thalach     1025 non-null int64\n",
      "exang       1025 non-null int64\n",
      "oldpeak     1025 non-null float64\n",
      "slope       1025 non-null int64\n",
      "ca          1025 non-null int64\n",
      "thal        1025 non-null int64\n",
      "target      1025 non-null int64\n",
      "dtypes: float64(1), int64(13)\n",
      "memory usage: 112.2 KB\n"
     ]
    }
   ],
   "source": [
    "# Information of the Datset\n",
    "dataset.info()\n"
   ]
  },
  {
   "cell_type": "markdown",
   "metadata": {},
   "source": [
    "### Working more with this Dataset:"
   ]
  },
  {
   "cell_type": "code",
   "execution_count": 22,
   "metadata": {},
   "outputs": [],
   "source": [
    "# Convert float64 to int64 of Oldpeak column:\n",
    "dataset['oldpeak'] = dataset['oldpeak'].astype('int64')"
   ]
  },
  {
   "cell_type": "code",
   "execution_count": 23,
   "metadata": {},
   "outputs": [
    {
     "name": "stdout",
     "output_type": "stream",
     "text": [
      "<class 'pandas.core.frame.DataFrame'>\n",
      "RangeIndex: 1025 entries, 0 to 1024\n",
      "Data columns (total 14 columns):\n",
      "age         1025 non-null int64\n",
      "sex         1025 non-null int64\n",
      "cp          1025 non-null int64\n",
      "trestbps    1025 non-null int64\n",
      "chol        1025 non-null int64\n",
      "fbs         1025 non-null int64\n",
      "restecg     1025 non-null int64\n",
      "thalach     1025 non-null int64\n",
      "exang       1025 non-null int64\n",
      "oldpeak     1025 non-null int64\n",
      "slope       1025 non-null int64\n",
      "ca          1025 non-null int64\n",
      "thal        1025 non-null int64\n",
      "target      1025 non-null int64\n",
      "dtypes: int64(14)\n",
      "memory usage: 112.2 KB\n"
     ]
    }
   ],
   "source": [
    "# Information of the Dataset\n",
    "dataset.info()"
   ]
  },
  {
   "cell_type": "markdown",
   "metadata": {},
   "source": [
    "#### Care of Missing values"
   ]
  },
  {
   "cell_type": "code",
   "execution_count": 24,
   "metadata": {},
   "outputs": [
    {
     "data": {
      "text/plain": [
       "age         0\n",
       "sex         0\n",
       "cp          0\n",
       "trestbps    0\n",
       "chol        0\n",
       "fbs         0\n",
       "restecg     0\n",
       "thalach     0\n",
       "exang       0\n",
       "oldpeak     0\n",
       "slope       0\n",
       "ca          0\n",
       "thal        0\n",
       "target      0\n",
       "dtype: int64"
      ]
     },
     "execution_count": 24,
     "metadata": {},
     "output_type": "execute_result"
    }
   ],
   "source": [
    "# Sum of missing value in column\n",
    "dataset.isnull().sum()"
   ]
  },
  {
   "cell_type": "markdown",
   "metadata": {},
   "source": [
    "### Check Target values; Heart attract or Not:"
   ]
  },
  {
   "cell_type": "code",
   "execution_count": 25,
   "metadata": {},
   "outputs": [
    {
     "data": {
      "text/plain": [
       "1    526\n",
       "0    499\n",
       "Name: target, dtype: int64"
      ]
     },
     "execution_count": 25,
     "metadata": {},
     "output_type": "execute_result"
    }
   ],
   "source": [
    "# Target values in this Dataset\n",
    "dataset['target'].value_counts()"
   ]
  },
  {
   "cell_type": "markdown",
   "metadata": {},
   "source": [
    "### Statistics of the Dataset"
   ]
  },
  {
   "cell_type": "code",
   "execution_count": 26,
   "metadata": {},
   "outputs": [
    {
     "data": {
      "text/html": [
       "<div>\n",
       "<style scoped>\n",
       "    .dataframe tbody tr th:only-of-type {\n",
       "        vertical-align: middle;\n",
       "    }\n",
       "\n",
       "    .dataframe tbody tr th {\n",
       "        vertical-align: top;\n",
       "    }\n",
       "\n",
       "    .dataframe thead th {\n",
       "        text-align: right;\n",
       "    }\n",
       "</style>\n",
       "<table border=\"1\" class=\"dataframe\">\n",
       "  <thead>\n",
       "    <tr style=\"text-align: right;\">\n",
       "      <th></th>\n",
       "      <th>age</th>\n",
       "      <th>sex</th>\n",
       "      <th>cp</th>\n",
       "      <th>trestbps</th>\n",
       "      <th>chol</th>\n",
       "      <th>fbs</th>\n",
       "      <th>restecg</th>\n",
       "      <th>thalach</th>\n",
       "      <th>exang</th>\n",
       "      <th>oldpeak</th>\n",
       "      <th>slope</th>\n",
       "      <th>ca</th>\n",
       "      <th>thal</th>\n",
       "      <th>target</th>\n",
       "    </tr>\n",
       "  </thead>\n",
       "  <tbody>\n",
       "    <tr>\n",
       "      <th>count</th>\n",
       "      <td>1025.000000</td>\n",
       "      <td>1025.000000</td>\n",
       "      <td>1025.000000</td>\n",
       "      <td>1025.000000</td>\n",
       "      <td>1025.00000</td>\n",
       "      <td>1025.000000</td>\n",
       "      <td>1025.000000</td>\n",
       "      <td>1025.000000</td>\n",
       "      <td>1025.000000</td>\n",
       "      <td>1025.000000</td>\n",
       "      <td>1025.000000</td>\n",
       "      <td>1025.000000</td>\n",
       "      <td>1025.000000</td>\n",
       "      <td>1025.000000</td>\n",
       "    </tr>\n",
       "    <tr>\n",
       "      <th>mean</th>\n",
       "      <td>54.434146</td>\n",
       "      <td>0.695610</td>\n",
       "      <td>0.942439</td>\n",
       "      <td>131.611707</td>\n",
       "      <td>246.00000</td>\n",
       "      <td>0.149268</td>\n",
       "      <td>0.529756</td>\n",
       "      <td>149.114146</td>\n",
       "      <td>0.336585</td>\n",
       "      <td>0.796098</td>\n",
       "      <td>1.385366</td>\n",
       "      <td>0.754146</td>\n",
       "      <td>2.323902</td>\n",
       "      <td>0.513171</td>\n",
       "    </tr>\n",
       "    <tr>\n",
       "      <th>std</th>\n",
       "      <td>9.072290</td>\n",
       "      <td>0.460373</td>\n",
       "      <td>1.029641</td>\n",
       "      <td>17.516718</td>\n",
       "      <td>51.59251</td>\n",
       "      <td>0.356527</td>\n",
       "      <td>0.527878</td>\n",
       "      <td>23.005724</td>\n",
       "      <td>0.472772</td>\n",
       "      <td>1.085408</td>\n",
       "      <td>0.617755</td>\n",
       "      <td>1.030798</td>\n",
       "      <td>0.620660</td>\n",
       "      <td>0.500070</td>\n",
       "    </tr>\n",
       "    <tr>\n",
       "      <th>min</th>\n",
       "      <td>29.000000</td>\n",
       "      <td>0.000000</td>\n",
       "      <td>0.000000</td>\n",
       "      <td>94.000000</td>\n",
       "      <td>126.00000</td>\n",
       "      <td>0.000000</td>\n",
       "      <td>0.000000</td>\n",
       "      <td>71.000000</td>\n",
       "      <td>0.000000</td>\n",
       "      <td>0.000000</td>\n",
       "      <td>0.000000</td>\n",
       "      <td>0.000000</td>\n",
       "      <td>0.000000</td>\n",
       "      <td>0.000000</td>\n",
       "    </tr>\n",
       "    <tr>\n",
       "      <th>25%</th>\n",
       "      <td>48.000000</td>\n",
       "      <td>0.000000</td>\n",
       "      <td>0.000000</td>\n",
       "      <td>120.000000</td>\n",
       "      <td>211.00000</td>\n",
       "      <td>0.000000</td>\n",
       "      <td>0.000000</td>\n",
       "      <td>132.000000</td>\n",
       "      <td>0.000000</td>\n",
       "      <td>0.000000</td>\n",
       "      <td>1.000000</td>\n",
       "      <td>0.000000</td>\n",
       "      <td>2.000000</td>\n",
       "      <td>0.000000</td>\n",
       "    </tr>\n",
       "    <tr>\n",
       "      <th>50%</th>\n",
       "      <td>56.000000</td>\n",
       "      <td>1.000000</td>\n",
       "      <td>1.000000</td>\n",
       "      <td>130.000000</td>\n",
       "      <td>240.00000</td>\n",
       "      <td>0.000000</td>\n",
       "      <td>1.000000</td>\n",
       "      <td>152.000000</td>\n",
       "      <td>0.000000</td>\n",
       "      <td>0.000000</td>\n",
       "      <td>1.000000</td>\n",
       "      <td>0.000000</td>\n",
       "      <td>2.000000</td>\n",
       "      <td>1.000000</td>\n",
       "    </tr>\n",
       "    <tr>\n",
       "      <th>75%</th>\n",
       "      <td>61.000000</td>\n",
       "      <td>1.000000</td>\n",
       "      <td>2.000000</td>\n",
       "      <td>140.000000</td>\n",
       "      <td>275.00000</td>\n",
       "      <td>0.000000</td>\n",
       "      <td>1.000000</td>\n",
       "      <td>166.000000</td>\n",
       "      <td>1.000000</td>\n",
       "      <td>1.000000</td>\n",
       "      <td>2.000000</td>\n",
       "      <td>1.000000</td>\n",
       "      <td>3.000000</td>\n",
       "      <td>1.000000</td>\n",
       "    </tr>\n",
       "    <tr>\n",
       "      <th>max</th>\n",
       "      <td>77.000000</td>\n",
       "      <td>1.000000</td>\n",
       "      <td>3.000000</td>\n",
       "      <td>200.000000</td>\n",
       "      <td>564.00000</td>\n",
       "      <td>1.000000</td>\n",
       "      <td>2.000000</td>\n",
       "      <td>202.000000</td>\n",
       "      <td>1.000000</td>\n",
       "      <td>6.000000</td>\n",
       "      <td>2.000000</td>\n",
       "      <td>4.000000</td>\n",
       "      <td>3.000000</td>\n",
       "      <td>1.000000</td>\n",
       "    </tr>\n",
       "  </tbody>\n",
       "</table>\n",
       "</div>"
      ],
      "text/plain": [
       "               age          sex           cp     trestbps        chol  \\\n",
       "count  1025.000000  1025.000000  1025.000000  1025.000000  1025.00000   \n",
       "mean     54.434146     0.695610     0.942439   131.611707   246.00000   \n",
       "std       9.072290     0.460373     1.029641    17.516718    51.59251   \n",
       "min      29.000000     0.000000     0.000000    94.000000   126.00000   \n",
       "25%      48.000000     0.000000     0.000000   120.000000   211.00000   \n",
       "50%      56.000000     1.000000     1.000000   130.000000   240.00000   \n",
       "75%      61.000000     1.000000     2.000000   140.000000   275.00000   \n",
       "max      77.000000     1.000000     3.000000   200.000000   564.00000   \n",
       "\n",
       "               fbs      restecg      thalach        exang      oldpeak  \\\n",
       "count  1025.000000  1025.000000  1025.000000  1025.000000  1025.000000   \n",
       "mean      0.149268     0.529756   149.114146     0.336585     0.796098   \n",
       "std       0.356527     0.527878    23.005724     0.472772     1.085408   \n",
       "min       0.000000     0.000000    71.000000     0.000000     0.000000   \n",
       "25%       0.000000     0.000000   132.000000     0.000000     0.000000   \n",
       "50%       0.000000     1.000000   152.000000     0.000000     0.000000   \n",
       "75%       0.000000     1.000000   166.000000     1.000000     1.000000   \n",
       "max       1.000000     2.000000   202.000000     1.000000     6.000000   \n",
       "\n",
       "             slope           ca         thal       target  \n",
       "count  1025.000000  1025.000000  1025.000000  1025.000000  \n",
       "mean      1.385366     0.754146     2.323902     0.513171  \n",
       "std       0.617755     1.030798     0.620660     0.500070  \n",
       "min       0.000000     0.000000     0.000000     0.000000  \n",
       "25%       1.000000     0.000000     2.000000     0.000000  \n",
       "50%       1.000000     0.000000     2.000000     1.000000  \n",
       "75%       2.000000     1.000000     3.000000     1.000000  \n",
       "max       2.000000     4.000000     3.000000     1.000000  "
      ]
     },
     "execution_count": 26,
     "metadata": {},
     "output_type": "execute_result"
    }
   ],
   "source": [
    "# Statistics Dataset\n",
    "dataset.describe()"
   ]
  },
  {
   "cell_type": "code",
   "execution_count": 27,
   "metadata": {},
   "outputs": [
    {
     "data": {
      "text/plain": [
       "array([[52,  1,  0, ...,  2,  3,  0],\n",
       "       [53,  1,  0, ...,  0,  3,  0],\n",
       "       [70,  1,  0, ...,  0,  3,  0],\n",
       "       ...,\n",
       "       [47,  1,  0, ...,  1,  2,  0],\n",
       "       [50,  0,  0, ...,  0,  2,  1],\n",
       "       [54,  1,  0, ...,  1,  3,  0]])"
      ]
     },
     "execution_count": 27,
     "metadata": {},
     "output_type": "execute_result"
    }
   ],
   "source": [
    "# Array of Dataset\n",
    "DataValue = dataset.values\n",
    "DataValue"
   ]
  },
  {
   "cell_type": "code",
   "execution_count": 42,
   "metadata": {},
   "outputs": [],
   "source": [
    "# Fix random seed for reproducibility\n",
    "np.random.seed(7)"
   ]
  },
  {
   "cell_type": "markdown",
   "metadata": {},
   "source": [
    "#### Spiliting dataset:"
   ]
  },
  {
   "cell_type": "code",
   "execution_count": 28,
   "metadata": {},
   "outputs": [],
   "source": [
    "# Split Dataset\n",
    "# Split into input (X) and output (y) variables\n",
    "X = DataValue[:,0:13]\n",
    "y = DataValue[:,13]"
   ]
  },
  {
   "cell_type": "code",
   "execution_count": 29,
   "metadata": {},
   "outputs": [],
   "source": [
    "# Define the keras model\n",
    "model = Sequential()\n",
    "model.add(Dense(18, input_dim=13, activation='relu'))\n",
    "model.add(Dense(13, activation='relu'))\n",
    "model.add(Dense(1, activation='sigmoid'))\n"
   ]
  },
  {
   "cell_type": "code",
   "execution_count": 30,
   "metadata": {},
   "outputs": [],
   "source": [
    "# Compile the keras model\n",
    "model.compile(loss='binary_crossentropy', optimizer='adam', metrics=['accuracy'])"
   ]
  },
  {
   "cell_type": "code",
   "execution_count": 43,
   "metadata": {},
   "outputs": [
    {
     "name": "stdout",
     "output_type": "stream",
     "text": [
      "Epoch 1/50\n",
      "46/46 [==============================] - 0s 4ms/step - loss: 0.2585 - accuracy: 0.8921 - val_loss: 0.3302 - val_accuracy: 0.8673\n",
      "Epoch 2/50\n",
      "46/46 [==============================] - 0s 2ms/step - loss: 0.2512 - accuracy: 0.8878 - val_loss: 0.3321 - val_accuracy: 0.8702\n",
      "Epoch 3/50\n",
      "46/46 [==============================] - 0s 2ms/step - loss: 0.2459 - accuracy: 0.8878 - val_loss: 0.3425 - val_accuracy: 0.8319\n",
      "Epoch 4/50\n",
      "46/46 [==============================] - 0s 2ms/step - loss: 0.2418 - accuracy: 0.8863 - val_loss: 0.3376 - val_accuracy: 0.8614\n",
      "Epoch 5/50\n",
      "46/46 [==============================] - 0s 2ms/step - loss: 0.2627 - accuracy: 0.8834 - val_loss: 0.3234 - val_accuracy: 0.8555\n",
      "Epoch 6/50\n",
      "46/46 [==============================] - 0s 2ms/step - loss: 0.2723 - accuracy: 0.8644 - val_loss: 0.3652 - val_accuracy: 0.8378\n",
      "Epoch 7/50\n",
      "46/46 [==============================] - 0s 2ms/step - loss: 0.2374 - accuracy: 0.8790 - val_loss: 0.4049 - val_accuracy: 0.8230\n",
      "Epoch 8/50\n",
      "46/46 [==============================] - 0s 2ms/step - loss: 0.2632 - accuracy: 0.8790 - val_loss: 0.3239 - val_accuracy: 0.8407\n",
      "Epoch 9/50\n",
      "46/46 [==============================] - 0s 2ms/step - loss: 0.2322 - accuracy: 0.9067 - val_loss: 0.3424 - val_accuracy: 0.8614\n",
      "Epoch 10/50\n",
      "46/46 [==============================] - 0s 2ms/step - loss: 0.2309 - accuracy: 0.8980 - val_loss: 0.3304 - val_accuracy: 0.8614\n",
      "Epoch 11/50\n",
      "46/46 [==============================] - 0s 2ms/step - loss: 0.2474 - accuracy: 0.8921 - val_loss: 0.4053 - val_accuracy: 0.8201\n",
      "Epoch 12/50\n",
      "46/46 [==============================] - 0s 3ms/step - loss: 0.2698 - accuracy: 0.8761 - val_loss: 0.3653 - val_accuracy: 0.8348\n",
      "Epoch 13/50\n",
      "46/46 [==============================] - 0s 2ms/step - loss: 0.2448 - accuracy: 0.8892 - val_loss: 0.3568 - val_accuracy: 0.8496\n",
      "Epoch 14/50\n",
      "46/46 [==============================] - 0s 2ms/step - loss: 0.2312 - accuracy: 0.8936 - val_loss: 0.3384 - val_accuracy: 0.8466\n",
      "Epoch 15/50\n",
      "46/46 [==============================] - 0s 2ms/step - loss: 0.2313 - accuracy: 0.8921 - val_loss: 0.3407 - val_accuracy: 0.8584\n",
      "Epoch 16/50\n",
      "46/46 [==============================] - 0s 2ms/step - loss: 0.2428 - accuracy: 0.8790 - val_loss: 0.3427 - val_accuracy: 0.8614\n",
      "Epoch 17/50\n",
      "46/46 [==============================] - 0s 2ms/step - loss: 0.2253 - accuracy: 0.9140 - val_loss: 0.3392 - val_accuracy: 0.8555\n",
      "Epoch 18/50\n",
      "46/46 [==============================] - 0s 2ms/step - loss: 0.2396 - accuracy: 0.8950 - val_loss: 0.3928 - val_accuracy: 0.8319\n",
      "Epoch 19/50\n",
      "46/46 [==============================] - 0s 2ms/step - loss: 0.2488 - accuracy: 0.8761 - val_loss: 0.3563 - val_accuracy: 0.8496\n",
      "Epoch 20/50\n",
      "46/46 [==============================] - 0s 2ms/step - loss: 0.2475 - accuracy: 0.8863 - val_loss: 0.3586 - val_accuracy: 0.8319\n",
      "Epoch 21/50\n",
      "46/46 [==============================] - 0s 2ms/step - loss: 0.2578 - accuracy: 0.8921 - val_loss: 0.3639 - val_accuracy: 0.8319\n",
      "Epoch 22/50\n",
      "46/46 [==============================] - 0s 2ms/step - loss: 0.2334 - accuracy: 0.8907 - val_loss: 0.3350 - val_accuracy: 0.8437\n",
      "Epoch 23/50\n",
      "46/46 [==============================] - 0s 2ms/step - loss: 0.2376 - accuracy: 0.8892 - val_loss: 0.3593 - val_accuracy: 0.8378\n",
      "Epoch 24/50\n",
      "46/46 [==============================] - 0s 2ms/step - loss: 0.2370 - accuracy: 0.8921 - val_loss: 0.3312 - val_accuracy: 0.8496\n",
      "Epoch 25/50\n",
      "46/46 [==============================] - 0s 2ms/step - loss: 0.2318 - accuracy: 0.8936 - val_loss: 0.3511 - val_accuracy: 0.8673\n",
      "Epoch 26/50\n",
      "46/46 [==============================] - 0s 2ms/step - loss: 0.2374 - accuracy: 0.8878 - val_loss: 0.3771 - val_accuracy: 0.8319\n",
      "Epoch 27/50\n",
      "46/46 [==============================] - 0s 2ms/step - loss: 0.2541 - accuracy: 0.8776 - val_loss: 0.3845 - val_accuracy: 0.8319\n",
      "Epoch 28/50\n",
      "46/46 [==============================] - 0s 2ms/step - loss: 0.2829 - accuracy: 0.8703 - val_loss: 0.4042 - val_accuracy: 0.8260\n",
      "Epoch 29/50\n",
      "46/46 [==============================] - 0s 2ms/step - loss: 0.2889 - accuracy: 0.8659 - val_loss: 0.3703 - val_accuracy: 0.8378\n",
      "Epoch 30/50\n",
      "46/46 [==============================] - 0s 2ms/step - loss: 0.2439 - accuracy: 0.9023 - val_loss: 0.3549 - val_accuracy: 0.8378\n",
      "Epoch 31/50\n",
      "46/46 [==============================] - 0s 2ms/step - loss: 0.2467 - accuracy: 0.8892 - val_loss: 0.3331 - val_accuracy: 0.8437\n",
      "Epoch 32/50\n",
      "46/46 [==============================] - 0s 2ms/step - loss: 0.2321 - accuracy: 0.8892 - val_loss: 0.4836 - val_accuracy: 0.8024\n",
      "Epoch 33/50\n",
      "46/46 [==============================] - 0s 2ms/step - loss: 0.2656 - accuracy: 0.8834 - val_loss: 0.3578 - val_accuracy: 0.8348\n",
      "Epoch 34/50\n",
      "46/46 [==============================] - 0s 2ms/step - loss: 0.2429 - accuracy: 0.8848 - val_loss: 0.3403 - val_accuracy: 0.8584\n",
      "Epoch 35/50\n",
      "46/46 [==============================] - 0s 2ms/step - loss: 0.2378 - accuracy: 0.8892 - val_loss: 0.3725 - val_accuracy: 0.8466\n",
      "Epoch 36/50\n",
      "46/46 [==============================] - 0s 2ms/step - loss: 0.2378 - accuracy: 0.8936 - val_loss: 0.3485 - val_accuracy: 0.8614\n",
      "Epoch 37/50\n",
      "46/46 [==============================] - 0s 2ms/step - loss: 0.2345 - accuracy: 0.8950 - val_loss: 0.3384 - val_accuracy: 0.8466\n",
      "Epoch 38/50\n",
      "46/46 [==============================] - 0s 2ms/step - loss: 0.2392 - accuracy: 0.8950 - val_loss: 0.3352 - val_accuracy: 0.8643\n",
      "Epoch 39/50\n",
      "46/46 [==============================] - 0s 2ms/step - loss: 0.2311 - accuracy: 0.8848 - val_loss: 0.3522 - val_accuracy: 0.8407\n",
      "Epoch 40/50\n",
      "46/46 [==============================] - 0s 2ms/step - loss: 0.2409 - accuracy: 0.8950 - val_loss: 0.3991 - val_accuracy: 0.8142\n",
      "Epoch 41/50\n",
      "46/46 [==============================] - 0s 2ms/step - loss: 0.2348 - accuracy: 0.8892 - val_loss: 0.3370 - val_accuracy: 0.8466\n",
      "Epoch 42/50\n",
      "46/46 [==============================] - 0s 2ms/step - loss: 0.2413 - accuracy: 0.8776 - val_loss: 0.3404 - val_accuracy: 0.8407\n",
      "Epoch 43/50\n",
      "46/46 [==============================] - 0s 2ms/step - loss: 0.2307 - accuracy: 0.9023 - val_loss: 0.3530 - val_accuracy: 0.8525\n",
      "Epoch 44/50\n",
      "46/46 [==============================] - 0s 2ms/step - loss: 0.2377 - accuracy: 0.8892 - val_loss: 0.3720 - val_accuracy: 0.8319\n",
      "Epoch 45/50\n",
      "46/46 [==============================] - 0s 2ms/step - loss: 0.2300 - accuracy: 0.8980 - val_loss: 0.3788 - val_accuracy: 0.8289\n",
      "Epoch 46/50\n",
      "46/46 [==============================] - 0s 2ms/step - loss: 0.2330 - accuracy: 0.8950 - val_loss: 0.3749 - val_accuracy: 0.8348\n",
      "Epoch 47/50\n",
      "46/46 [==============================] - 0s 2ms/step - loss: 0.2614 - accuracy: 0.8761 - val_loss: 0.4061 - val_accuracy: 0.8142\n",
      "Epoch 48/50\n",
      "46/46 [==============================] - 0s 2ms/step - loss: 0.2381 - accuracy: 0.8892 - val_loss: 0.3397 - val_accuracy: 0.8437\n",
      "Epoch 49/50\n",
      "46/46 [==============================] - 0s 2ms/step - loss: 0.2277 - accuracy: 0.8950 - val_loss: 0.4087 - val_accuracy: 0.8260\n",
      "Epoch 50/50\n",
      "46/46 [==============================] - 0s 2ms/step - loss: 0.2273 - accuracy: 0.8950 - val_loss: 0.3535 - val_accuracy: 0.8407\n"
     ]
    },
    {
     "data": {
      "text/plain": [
       "<keras.callbacks.History at 0x7f3784172e80>"
      ]
     },
     "execution_count": 43,
     "metadata": {},
     "output_type": "execute_result"
    }
   ],
   "source": [
    "# Fit the keras model on the dataset\n",
    "model.fit(X, y, validation_split=0.33,epochs=50, batch_size=15)"
   ]
  },
  {
   "cell_type": "code",
   "execution_count": 44,
   "metadata": {},
   "outputs": [
    {
     "name": "stdout",
     "output_type": "stream",
     "text": [
      "33/33 [==============================] - 0s 1ms/step - loss: 0.2649 - accuracy: 0.8761\n",
      "Accuracy: 87.61\n"
     ]
    }
   ],
   "source": [
    "# Evaluate the keras model\n",
    "_, accuracy = model.evaluate(X, y)\n",
    "print('Accuracy: %.2f' % (accuracy*100))"
   ]
  },
  {
   "cell_type": "code",
   "execution_count": 33,
   "metadata": {},
   "outputs": [
    {
     "name": "stdout",
     "output_type": "stream",
     "text": [
      "[52, 1, 0, 125, 212, 0, 1, 168, 0, 1, 2, 2, 3] => 0 (expected 0)\n",
      "[53, 1, 0, 140, 203, 1, 0, 155, 1, 3, 0, 0, 3] => 0 (expected 0)\n",
      "[70, 1, 0, 145, 174, 0, 1, 125, 1, 2, 0, 0, 3] => 0 (expected 0)\n",
      "[61, 1, 0, 148, 203, 0, 1, 161, 0, 0, 2, 1, 3] => 1 (expected 0)\n",
      "[62, 0, 0, 138, 294, 1, 1, 106, 0, 1, 1, 3, 2] => 0 (expected 0)\n"
     ]
    }
   ],
   "source": [
    "# Make class predictions with the model\n",
    "predictions = (model.predict(X) > 0.5).astype(int)\n",
    "# Summarize the first 5 cases\n",
    "for i in range(5):\n",
    "    print('%s => %d (expected %d)' % (X[i].tolist(), predictions[i], y[i]))"
   ]
  }
 ],
 "metadata": {
  "interpreter": {
   "hash": "31f2aee4e71d21fbe5cf8b01ff0e069b9275f58929596ceb00d14d90e3e16cd6"
  },
  "kernelspec": {
   "display_name": "Python 3.6.9 64-bit",
   "language": "python",
   "name": "python3"
  },
  "language_info": {
   "codemirror_mode": {
    "name": "ipython",
    "version": 3
   },
   "file_extension": ".py",
   "mimetype": "text/x-python",
   "name": "python",
   "nbconvert_exporter": "python",
   "pygments_lexer": "ipython3",
   "version": "3.6.9"
  },
  "orig_nbformat": 4
 },
 "nbformat": 4,
 "nbformat_minor": 2
}
